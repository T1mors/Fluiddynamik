{
 "cells": [
  {
   "cell_type": "markdown",
   "metadata": {},
   "source": [
    "Exercise 5: Faster Algorithm for correlation  \n",
    "In the correlation $C(r) = \\langle u'(x+r)u'(x) \\rangle$ you do not want to do a circular one. So we have to cut the correlation at the end.  \n",
    "But instead of doing it manual for each step r, you can also use the more efficient convolution."
   ]
  },
  {
   "cell_type": "code",
   "execution_count": 4,
   "metadata": {},
   "outputs": [],
   "source": [
    "import numpy as np\n",
    "from scipy import signal"
   ]
  },
  {
   "cell_type": "code",
   "execution_count": 6,
   "metadata": {},
   "outputs": [
    {
     "name": "stdout",
     "output_type": "stream",
     "text": [
      "[1 1 1 0 1 2 4 5 1]\n",
      "[-0.77777778 -0.77777778 -0.77777778 -1.77777778 -0.77777778  0.22222222\n",
      "  2.22222222  3.22222222 -0.77777778]\n",
      "-----\n",
      "Correct one, but slow when data is large:\n",
      " [ 2.39506173  1.11882716 -0.07760141 -0.80246914 -1.28395062 -0.75617284\n",
      " -1.20987654 -0.95061728  0.60493827]\n",
      "\n",
      "Use convolution\n",
      "d:  [1 2 3 4 5 6 7 8 9 8 7 6 5 4 3 2 1]\n",
      "Correlation using convolution. Much faster:\n",
      " [ 2.39506173  1.11882716 -0.07760141 -0.80246914 -1.28395062 -0.75617284\n",
      " -1.20987654 -0.95061728  0.60493827]\n"
     ]
    }
   ],
   "source": [
    "# Example\n",
    "a = np.array([1,1,1,0,1,2,4,5,1])\n",
    "a_fluc = a - np.mean(a)\n",
    "print(a)\n",
    "print(a_fluc)\n",
    "print('-----')\n",
    "# 1\n",
    "# acf = sm.tsa.acf(a_fluc, nlags=len(a)-1, fft=False)\n",
    "# print('The autocorrelation is wrong, because it 1.) Divides always by N (and not N-r) and 2.)')\n",
    "# print(acf)\n",
    "\n",
    "# 2 Correct from Exercise Sheet\n",
    "corr = np.zeros(len(a_fluc))\n",
    "corr[0] = np.mean(a_fluc**2)\n",
    "for rr in range(1,len(a_fluc)):\n",
    "    corr[rr] = np.mean(a_fluc[rr:]*a_fluc[:-rr]) # \n",
    "# corr = corr/corr[0]\n",
    "print('Correct one, but slow when data is large:\\n', corr)\n",
    "\n",
    "# 5\n",
    "# Convolution reverses the second array, so we do this beforeand and get a \"slide over\" from the left\n",
    "acf_cov2 = signal.fftconvolve(a_fluc, a_fluc[::-1], mode='full')\n",
    "\n",
    "# d is just a vector of how many points were involved in the convolution\n",
    "print('\\nUse convolution')\n",
    "xi = np.arange(1, len(a_fluc) + 1)\n",
    "d = np.hstack((xi, xi[:-1][::-1]))\n",
    "print('d: ', d)\n",
    "acf_cov2 = acf_cov2 / d\n",
    "# The first entry is actually the last one in the correlation ([::-1]=reverse)\n",
    "# And we don't need the second half, because that would mean negative \"r\" in our correlation\n",
    "acf_cov2 = acf_cov2[:len(a_fluc)][::-1]\n",
    "# acf_cov2 = acf_cov2/np.max(acf_cov2)\n",
    "print('Correlation using convolution. Much faster:\\n', acf_cov2)"
   ]
  },
  {
   "cell_type": "code",
   "execution_count": null,
   "metadata": {},
   "outputs": [],
   "source": []
  }
 ],
 "metadata": {
  "interpreter": {
   "hash": "c78f920997a3a6581c3194d26f316af68717cea79f71daede8c67743d56a1b4f"
  },
  "kernelspec": {
   "display_name": "Python 3.8.3 ('base')",
   "language": "python",
   "name": "python3"
  },
  "language_info": {
   "codemirror_mode": {
    "name": "ipython",
    "version": 3
   },
   "file_extension": ".py",
   "mimetype": "text/x-python",
   "name": "python",
   "nbconvert_exporter": "python",
   "pygments_lexer": "ipython3",
   "version": "3.8.3"
  },
  "orig_nbformat": 4
 },
 "nbformat": 4,
 "nbformat_minor": 2
}
