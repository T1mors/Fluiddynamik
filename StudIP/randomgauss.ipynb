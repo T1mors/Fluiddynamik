{
 "cells": [
  {
   "cell_type": "code",
   "execution_count": null,
   "metadata": {},
   "outputs": [],
   "source": [
    "import numpy as np\n",
    "from matplotlib import pyplot as plt\n",
    "import math\n",
    "import seaborn as sns\n",
    "plt.rcParams.update({\n",
    "    \"text.usetex\": True,\n",
    "    \"font.family\": \"sans-serif\",\n",
    "    \"font.sans-serif\": [\"Helvetica\"]})\n",
    "plt.rc('font', family='serif')\n",
    "#plt.style.use('seaborn-white',)\n",
    "#rc('text', usetex=True)     #this CAN cause crashes, solution: cd ~/.matplotlib  then  rm tex.cache/\n",
    "sns.set_style(\"whitegrid\")"
   ]
  },
  {
   "cell_type": "code",
   "execution_count": null,
   "metadata": {},
   "outputs": [],
   "source": [
    "def gaussian(x, sigma, mu):\n",
    "    return np.exp(-(x-mu)**2/(2*sigma**2))/np.sqrt(2*np.pi*sigma**2)"
   ]
  },
  {
   "cell_type": "markdown",
   "metadata": {},
   "source": [
    "# Draw random numbers from standard normal distribution"
   ]
  },
  {
   "cell_type": "code",
   "execution_count": 3,
   "metadata": {},
   "outputs": [],
   "source": [
    "N_sample = 10000; mu=1.; sigma=0.5\n",
    "N = np.random.normal(0, 1, N_sample)\n",
    "Z = mu + sigma*N"
   ]
  },
  {
   "cell_type": "code",
   "execution_count": 4,
   "metadata": {},
   "outputs": [
    {
     "data": {
      "text/plain": [
       "[<matplotlib.lines.Line2D at 0x124b72f98>]"
      ]
     },
     "execution_count": 4,
     "metadata": {},
     "output_type": "execute_result"
    },
    {
     "data": {
      "image/png": "[encoded data removed]",
      "text/plain": [
       "<Figure size 432x288 with 1 Axes>"
      ]
     },
     "metadata": {},
     "output_type": "display_data"
    }
   ],
   "source": [
    "plt.plot(Z)"
   ]
  },
  {
   "cell_type": "markdown",
   "metadata": {},
   "source": [
    "# Sort the Z-values into a histogram"
   ]
  },
  {
   "cell_type": "code",
   "execution_count": null,
   "metadata": {},
   "outputs": [],
   "source": [
    "bins = 128 # number of bins to sort into\n",
    "Z_min = Z.min()\n",
    "Z_max = Z.max()\n",
    "Z_range = np.linspace(Z_min, Z_max, bins+1)\n",
    "hist = np.zeros(bins)\n",
    "hist_np, edges = np.histogram(Z, bins=bins, range=[Z_min, Z_max]) # this is a pre-defined python function"
   ]
  },
  {
   "cell_type": "code",
   "execution_count": null,
   "metadata": {},
   "outputs": [],
   "source": [
    "for nn in range(bins):\n",
    "    hist[nn] =  sum(Z_range[nn] < x < Z_range[nn+1] for x in Z) # counts Z-values that fall in each bin"
   ]
  },
  {
   "cell_type": "code",
   "execution_count": null,
   "metadata": {},
   "outputs": [],
   "source": [
    "plt.plot(Z_range[:-1], hist)\n",
    "plt.plot(Z_range[:-1], hist_np)\n",
    "plt.ylabel('$Hist(Z)$', fontsize=20)\n",
    "plt.xlabel('$Z$', fontsize=20)\n",
    "plt.xticks(fontsize=19)\n",
    "plt.yticks(fontsize=19)"
   ]
  },
  {
   "cell_type": "code",
   "execution_count": null,
   "metadata": {},
   "outputs": [],
   "source": [
    "plt.plot(Z_range[:-1], hist/np.sum(hist)) # normed to one\n",
    "plt.plot(Z_range[:-1], gaussian(Z_range[:-1],sigma,mu)/34.) #gaussian also normed to one...\n",
    "plt.ylabel('$Hist(Z)$', fontsize=20)\n",
    "plt.xlabel('$Z$', fontsize=20)\n",
    "plt.xticks(fontsize=19)\n",
    "plt.yticks(fontsize=19)"
   ]
  },
  {
   "cell_type": "code",
   "execution_count": null,
   "metadata": {},
   "outputs": [],
   "source": []
  },
  {
   "cell_type": "code",
   "execution_count": null,
   "metadata": {},
   "outputs": [],
   "source": []
  }
 ],
 "metadata": {
  "kernelspec": {
   "display_name": "Python 3 (ipykernel)",
   "language": "python",
   "name": "python3"
  },
  "language_info": {
   "codemirror_mode": {
    "name": "ipython",
    "version": 3
   },
   "file_extension": ".py",
   "mimetype": "text/x-python",
   "name": "python",
   "nbconvert_exporter": "python",
   "pygments_lexer": "ipython3",
   "version": "3.7.3"
  }
 },
 "nbformat": 4,
 "nbformat_minor": 2
}
